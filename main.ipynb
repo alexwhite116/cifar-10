{
 "cells": [
  {
   "cell_type": "markdown",
   "metadata": {},
   "source": [
    "# CIFAR-10 Classifier with PyTorch\n",
    "\n",
    "First we import some standard libraries including PyTorch"
   ]
  },
  {
   "cell_type": "code",
   "execution_count": 1,
   "metadata": {},
   "outputs": [],
   "source": [
    "import random\n",
    "import numpy as np\n",
    "import pandas\n",
    "import torch\n",
    "import seaborn as sns\n",
    "import matplotlib.pyplot as plt\n",
    "import qbstyles\n",
    "import cv2"
   ]
  },
  {
   "cell_type": "markdown",
   "metadata": {},
   "source": [
    "We set the style of our matplotlib outputs to Dark using McKinsey's QuantumBlack open source styles"
   ]
  },
  {
   "cell_type": "code",
   "execution_count": 2,
   "metadata": {},
   "outputs": [],
   "source": [
    "qbstyles.mpl_style(dark=True)"
   ]
  },
  {
   "cell_type": "markdown",
   "metadata": {},
   "source": [
    "Define a function to unpickle the training sets as provided by CIFAR-10."
   ]
  },
  {
   "cell_type": "code",
   "execution_count": 3,
   "metadata": {},
   "outputs": [],
   "source": [
    "def unpickle(file):\n",
    "    import pickle\n",
    "    with open(file, 'rb') as fo:\n",
    "        dict = pickle.load(fo, encoding='bytes')\n",
    "    return dict"
   ]
  },
  {
   "cell_type": "markdown",
   "metadata": {},
   "source": [
    "Assign the various dictionaries to variables for easy accessibility"
   ]
  },
  {
   "cell_type": "code",
   "execution_count": 4,
   "metadata": {},
   "outputs": [],
   "source": [
    "TRAINING1 = unpickle('cifar-10-batches-py/data_batch_1')\n",
    "TRAINING2 = unpickle('cifar-10-batches-py/data_batch_2')\n",
    "TRAINING3 = unpickle('cifar-10-batches-py/data_batch_3')\n",
    "TRAINING4 = unpickle('cifar-10-batches-py/data_batch_4')\n",
    "TRAINING5 = unpickle('cifar-10-batches-py/data_batch_5')\n",
    "TEST = unpickle('cifar-10-batches-py/test_batch')"
   ]
  },
  {
   "cell_type": "markdown",
   "metadata": {},
   "source": [
    "We will use OpenCV to visualise the data set. To do this we will define a function with the following:\n",
    "- Inputs:\n",
    "    + **dataset**: dict as defined above via unpickling the provided files\n",
    "    + **index**: index of the image to be retrieved from the dataset\n",
    "- Outputs:\n",
    "    + direct output of image to screen\n"
   ]
  },
  {
   "cell_type": "code",
   "execution_count": 5,
   "metadata": {},
   "outputs": [],
   "source": [
    "def imageFromSet(dataset, index=0):\n",
    "    redRows = [dataset[b'data'][index][i:i+32] for i in range(0, 1024, 32)]\n",
    "    greenRows = [dataset[b'data'][index][i:i+32] for i in range(1024, 2048, 32)]\n",
    "    blueRows = [dataset[b'data'][index][i:i+32] for i in range(2048, 3072, 32)]\n",
    "    img = [[[] for i in range(32)] for i in range(32)]\n",
    "    for i in range(32):\n",
    "        for j in range(32):\n",
    "            img[j][i] = [redRows[j][i], greenRows[j][i], blueRows[j][i]]\n",
    "    return np.array(img)\n"
   ]
  },
  {
   "cell_type": "code",
   "execution_count": 22,
   "metadata": {},
   "outputs": [
    {
     "data": {
      "image/png": "[encoded data removed]",
      "text/plain": [
       "<Figure size 640x480 with 1 Axes>"
      ]
     },
     "metadata": {},
     "output_type": "display_data"
    }
   ],
   "source": [
    "plt.imshow(imageFromSet(TRAINING1, random.randint(0, 10000-1)))\n",
    "plt.show()"
   ]
  }
 ],
 "metadata": {
  "kernelspec": {
   "display_name": ".venv",
   "language": "python",
   "name": "python3"
  },
  "language_info": {
   "codemirror_mode": {
    "name": "ipython",
    "version": 3
   },
   "file_extension": ".py",
   "mimetype": "text/x-python",
   "name": "python",
   "nbconvert_exporter": "python",
   "pygments_lexer": "ipython3",
   "version": "3.11.7"
  }
 },
 "nbformat": 4,
 "nbformat_minor": 2
}
